{
 "cells": [
  {
   "cell_type": "markdown",
   "id": "8458ffde",
   "metadata": {},
   "source": [
    "# 1. Manipulate using a list.\n",
    "\n",
    "    i) To add new elements to the end of the list\n",
    "\n",
    "    ii) To reverse elements in the list\n",
    "\n",
    "    iii) To display the same list of elements multiple times.\n",
    "\n",
    "    iv) To concatenate two list\n",
    "\n",
    "    v) To sort the elements in the list in ascending order."
   ]
  },
  {
   "cell_type": "code",
   "execution_count": 13,
   "id": "6c9fd0ee",
   "metadata": {},
   "outputs": [
    {
     "data": {
      "text/plain": [
       "[2, 22, 'Abhi']"
      ]
     },
     "execution_count": 13,
     "metadata": {},
     "output_type": "execute_result"
    }
   ],
   "source": [
    "lst=[2,22,'Abhi']\n",
    "lst"
   ]
  },
  {
   "cell_type": "code",
   "execution_count": 14,
   "id": "230f0b17",
   "metadata": {},
   "outputs": [
    {
     "name": "stdout",
     "output_type": "stream",
     "text": [
      "After Adding List becomes:  [2, 22, 'Abhi', 'Das', 3, 33]\n"
     ]
    }
   ],
   "source": [
    "#i) To add new elements to the end of the list\n",
    "\n",
    "# append is used to add single element at the end of the list\n",
    "lst.append('Das')  \n",
    "    \n",
    "# Extend is used to add multiple element at the end of the list individually at a time\n",
    "lst.extend([3,33])\n",
    "    \n",
    "print('After Adding List becomes: ',lst)\n"
   ]
  },
  {
   "cell_type": "code",
   "execution_count": 15,
   "id": "d149d765",
   "metadata": {},
   "outputs": [
    {
     "name": "stdout",
     "output_type": "stream",
     "text": [
      "After Reversing the List becomes:  [33, 3, 'Das', 'Abhi', 22, 2]\n"
     ]
    }
   ],
   "source": [
    "# ii) To reverse elements in the list\n",
    "lst.reverse()\n",
    "\n",
    "print('After Reversing the List becomes: ',lst)"
   ]
  },
  {
   "cell_type": "code",
   "execution_count": 18,
   "id": "99b0b036",
   "metadata": {},
   "outputs": [
    {
     "name": "stdout",
     "output_type": "stream",
     "text": [
      "multiple list is:  [33, 3, 'Das', 'Abhi', 22, 2, 33, 3, 'Das', 'Abhi', 22, 2]\n"
     ]
    }
   ],
   "source": [
    "# iii) To display the same list of elements multiple times.\n",
    "mullst= lst*2\n",
    "print('multiple list is: ',mullst)"
   ]
  },
  {
   "cell_type": "code",
   "execution_count": 31,
   "id": "86ef495b",
   "metadata": {},
   "outputs": [
    {
     "name": "stdout",
     "output_type": "stream",
     "text": [
      "Concatenation of l1 and l2:  ['mango', 'apple', 'guava', 'pine-apple']\n"
     ]
    }
   ],
   "source": [
    "# iv) To concatenate two list\n",
    "l1=['mango','apple']\n",
    "l2=['guava','pine-apple']\n",
    "l3= l1+l2\n",
    "print(\"Concatenation of l1 and l2: \",l3)"
   ]
  },
  {
   "cell_type": "code",
   "execution_count": 38,
   "id": "5f793622",
   "metadata": {},
   "outputs": [
    {
     "name": "stdout",
     "output_type": "stream",
     "text": [
      "After Sorting l3 in ascending order:  ['apple', 'guava', 'mango', 'pine-apple']\n",
      "After Sorting l4 in ascending order:  [2, 3, 5, 8, 15, 55, 63.5, 65, 90]\n"
     ]
    }
   ],
   "source": [
    "# To sort the elements in the list in ascending order.\n",
    "l3  # string elements\n",
    "l3.sort()\n",
    "print(\"After Sorting l3 in ascending order: \",l3)\n",
    "\n",
    "l4=[15,5,3,2,8,55,90,65,63.5]  # integer elements\n",
    "l4.sort()\n",
    "print(\"After Sorting l4 in ascending order: \",l4)\n"
   ]
  },
  {
   "cell_type": "markdown",
   "id": "94f516c7",
   "metadata": {},
   "source": [
    "# 2. Write a Python program to do in the tuples.\n",
    "\n",
    "    i) Manipulate using tuples.\n",
    "\n",
    "    ii) To add new elements to the end of the tuples\n",
    "\n",
    "    iii) To reverse elements in the list\n",
    "\n",
    "    iv) To display the elements of the same tuple multiple times.\n",
    "\n",
    "    v) To concatenate two tuples \n",
    "    \n",
    "    vi)To sort the elements in the list in ascending order."
   ]
  },
  {
   "cell_type": "code",
   "execution_count": 39,
   "id": "9c2f01d6",
   "metadata": {},
   "outputs": [
    {
     "data": {
      "text/plain": [
       "('guava', 'banana', 'strawberry', 'apple', 'pine-apple')"
      ]
     },
     "execution_count": 39,
     "metadata": {},
     "output_type": "execute_result"
    }
   ],
   "source": [
    "tup = (\"guava\", \"banana\", \"strawberry\", \"apple\", \"pine-apple\")\n",
    "tup"
   ]
  },
  {
   "cell_type": "code",
   "execution_count": 48,
   "id": "fb309235",
   "metadata": {},
   "outputs": [
    {
     "data": {
      "text/plain": [
       "['guava', 'banana', 'strawberry', 'apple', 'pine-apple']"
      ]
     },
     "execution_count": 48,
     "metadata": {},
     "output_type": "execute_result"
    }
   ],
   "source": [
    "# i) Manipulate using tuples.\n",
    "# for manipulating the tuple we need to covert it into list, cause tuple is immutable\n",
    "tuplist= list(tup)\n",
    "\n",
    "tuplist  # now we can make chnges with the tuple element through tuplist and convert it back to tuple.\n"
   ]
  },
  {
   "cell_type": "code",
   "execution_count": 49,
   "id": "8f3106c9",
   "metadata": {},
   "outputs": [
    {
     "name": "stdout",
     "output_type": "stream",
     "text": [
      "Adding element to the end of tuple:  ['guava', 'banana', 'strawberry', 'apple', 'pine-apple', 'orange']\n"
     ]
    }
   ],
   "source": [
    "#  ii) To add new elements to the end of the tuples\n",
    "tuplist.append('orange')\n",
    "\n",
    "print(\"Adding element to the end of tuple: \",tuplist)"
   ]
  },
  {
   "cell_type": "code",
   "execution_count": 52,
   "id": "c7bbd2ed",
   "metadata": {},
   "outputs": [
    {
     "name": "stdout",
     "output_type": "stream",
     "text": [
      "Reversing elements in the list:  ['orange', 'pine-apple', 'apple', 'strawberry', 'banana', 'guava']\n"
     ]
    }
   ],
   "source": [
    "# iii) To reverse elements in the list\n",
    "\n",
    "tuplist.reverse()\n",
    "print(\"Reversing elements in the list: \",tuplist)"
   ]
  },
  {
   "cell_type": "code",
   "execution_count": 56,
   "id": "bab1d316",
   "metadata": {},
   "outputs": [
    {
     "name": "stdout",
     "output_type": "stream",
     "text": [
      "Displaying Multiple Times:  ['orange', 'pine-apple', 'apple', 'strawberry', 'banana', 'guava', 'orange', 'pine-apple', 'apple', 'strawberry', 'banana', 'guava', 'orange', 'pine-apple', 'apple', 'strawberry', 'banana', 'guava']\n"
     ]
    }
   ],
   "source": [
    "# iv) To display the elements of the same tuple multiple times.\n",
    "multuplist= tuplist*3\n",
    "\n",
    "print(\"Displaying Multiple Times: \",multuplist)"
   ]
  },
  {
   "cell_type": "code",
   "execution_count": 162,
   "id": "022dc941",
   "metadata": {},
   "outputs": [
    {
     "name": "stdout",
     "output_type": "stream",
     "text": [
      "Concatenate tuples in ascending order:  ('guava', 'banana', 'strawberry', 'cherry', 'grapes')\n"
     ]
    }
   ],
   "source": [
    "# v) To concatenate two tuples To sort the elements in the list in ascending order.\n",
    "ftup =(\"guava\", \"banana\", \"strawberry\")\n",
    "stup =(\"cherry\",\"grapes\")\n",
    "ctup = ftup+stup\n",
    "\n",
    "print(\"Concatenate tuples in ascending order: \", ctup)\n"
   ]
  },
  {
   "cell_type": "code",
   "execution_count": null,
   "id": "5d8e961a",
   "metadata": {},
   "outputs": [],
   "source": [
    "# vi)To sort the elements in the list in ascending order.\n",
    "\n",
    "asclist= list(ctup)\n",
    "asclist.sort() # sorting in ascending order\n",
    "print(\"Ascending order in list: \",asclist)"
   ]
  },
  {
   "cell_type": "markdown",
   "id": "55f38a05",
   "metadata": {},
   "source": [
    "# 3. Write a python program to implement the following using list.\n",
    "\n",
    "        i) Create a list with integers (minimum 10 numbers)\n",
    "\n",
    "        ii) How to display the last number in the list\n",
    "\n",
    "        iii) Command for displaying the values from the list [0:4]\n",
    "\n",
    "        iv) Command for displaying the values from the list [2:]\n",
    "\n",
    "        v) Command for displaying the values from the list [:6]"
   ]
  },
  {
   "cell_type": "code",
   "execution_count": 63,
   "id": "df820111",
   "metadata": {},
   "outputs": [
    {
     "data": {
      "text/plain": [
       "[3, 4, 6, 8, 1, 2, 9, 14, 32, 44]"
      ]
     },
     "execution_count": 63,
     "metadata": {},
     "output_type": "execute_result"
    }
   ],
   "source": [
    "# i) Create a list with integers (minimum 10 numbers)\n",
    "ilst=[3,4,6,8,1,2,9,14,32,44]\n",
    "ilst\n"
   ]
  },
  {
   "cell_type": "code",
   "execution_count": 70,
   "id": "b9cb0ec9",
   "metadata": {},
   "outputs": [
    {
     "name": "stdout",
     "output_type": "stream",
     "text": [
      "Last number in the list is:  44\n"
     ]
    }
   ],
   "source": [
    "# ii) How to display the last number in the list\n",
    "lengthl = len(ilst)\n",
    "print(\"Last number in the list is: \",ilst[lengthl-1])"
   ]
  },
  {
   "cell_type": "code",
   "execution_count": 73,
   "id": "bd422e72",
   "metadata": {},
   "outputs": [
    {
     "name": "stdout",
     "output_type": "stream",
     "text": [
      "Original List is:  [3, 4, 6, 8, 1, 2, 9, 14, 32, 44]\n",
      "displaying the values from the list [0:4] is:  [3, 4, 6, 8]\n"
     ]
    }
   ],
   "source": [
    "# iii) Command for displaying the values from the list [0:4]\n",
    "print('Original List is: ',ilst)\n",
    "print(\"displaying the values from the list [0:4] is: \",ilst[0:4]) # it displays from the start idx 0 to end index 3 ( which is 4-1)\n",
    "        "
   ]
  },
  {
   "cell_type": "code",
   "execution_count": 75,
   "id": "f0b17c02",
   "metadata": {},
   "outputs": [
    {
     "name": "stdout",
     "output_type": "stream",
     "text": [
      "Original List is:  [3, 4, 6, 8, 1, 2, 9, 14, 32, 44]\n",
      "displaying the values from the list [2:] is:  [6, 8, 1, 2, 9, 14, 32, 44]\n"
     ]
    }
   ],
   "source": [
    "# iv) Command for displaying the values from the list [2:]\n",
    "print('Original List is: ',ilst)\n",
    "print(\"displaying the values from the list [2:] is: \",ilst[2:]) # it displays from the start idx 2 to till the end of the list\n"
   ]
  },
  {
   "cell_type": "code",
   "execution_count": null,
   "id": "a858457a",
   "metadata": {},
   "outputs": [],
   "source": [
    "# v) Command for displaying the values from the list [:6]\n",
    "print('Original List is: ',ilst)\n",
    "print(\"displaying the values from the list [2:] is: \",ilst[:6]) # it displays from the start idx (default) to end idx 5(which is 6-1)"
   ]
  },
  {
   "cell_type": "markdown",
   "id": "642cd1fe",
   "metadata": {},
   "source": [
    "# 4. Write a Python program: tuple1 = (10,50,20,40,30)\n",
    "\n",
    "    i. To display the elements 10 and 50 from tuple1\n",
    "\n",
    "    ii. To display the length of a tuple1.\n",
    "\n",
    "    To find the minimum element from tuple1.\n",
    "\n",
    "    iv. To add all elements in the tuple1.\n",
    "\n",
    "    V. To display the same tuple1 multiple times."
   ]
  },
  {
   "cell_type": "code",
   "execution_count": 80,
   "id": "d9203fb3",
   "metadata": {},
   "outputs": [
    {
     "data": {
      "text/plain": [
       "(10, 50)"
      ]
     },
     "execution_count": 80,
     "metadata": {},
     "output_type": "execute_result"
    }
   ],
   "source": [
    "# i) To display the elements 10 and 50 from tuple1\n",
    "tuple1 = (10,50,20,40,30)\n",
    "tuple1[:2]\n"
   ]
  },
  {
   "cell_type": "code",
   "execution_count": 82,
   "id": "3c88717b",
   "metadata": {},
   "outputs": [
    {
     "name": "stdout",
     "output_type": "stream",
     "text": [
      "Length of tuple1 is:  5\n"
     ]
    }
   ],
   "source": [
    "# ii) To display the length of a tuple1.\n",
    "ltup= len(tuple1)\n",
    "print(\"Length of tuple1 is: \",ltup)\n"
   ]
  },
  {
   "cell_type": "code",
   "execution_count": 85,
   "id": "43963b51",
   "metadata": {},
   "outputs": [
    {
     "name": "stdout",
     "output_type": "stream",
     "text": [
      "Original Tuple is:  (10, 50, 20, 40, 30)\n",
      "Minimum element from tuple1 is:  10\n"
     ]
    }
   ],
   "source": [
    "# iii) To find the minimum element from tuple1.\n",
    "print('Original Tuple is: ',tuple1)\n",
    "minvaltup= min(tuple1)\n",
    "print(\"Minimum element from tuple1 is: \", minvaltup)\n"
   ]
  },
  {
   "cell_type": "code",
   "execution_count": null,
   "id": "c211aa58",
   "metadata": {},
   "outputs": [],
   "source": [
    "# iv) To add all elements in the tuple1.\n",
    "print('Original Tuple is: ',tuple1)\n",
    "sumtup= sum(tuple1)\n",
    "print(\"sum of all element from tuple1 is: \", sumtup)"
   ]
  },
  {
   "cell_type": "code",
   "execution_count": null,
   "id": "c83961c4",
   "metadata": {},
   "outputs": [],
   "source": [
    "# V) To display the same tuple1 multiple times.\n",
    "print('Original Tuple is: ',tuple1)\n",
    "multup= tuple1 *3\n",
    "print('Displaying Multiple times the tuple is: ',multup     )\n"
   ]
  },
  {
   "cell_type": "markdown",
   "id": "06033be9",
   "metadata": {},
   "source": [
    "# 5. Write a Python program:\n",
    "    \n",
    "    i) To calculate the length of a string\n",
    "    \n",
    "    ii) To reverse words in a string\n",
    "    \n",
    "    iii) To display the same string multiple times\n",
    "    \n",
    "    iv) To concatenate two strings\n",
    "    \n",
    "    v) Stri=\" South India\", using string slicing to display \"India\""
   ]
  },
  {
   "cell_type": "code",
   "execution_count": 102,
   "id": "1a458f52",
   "metadata": {},
   "outputs": [
    {
     "name": "stdout",
     "output_type": "stream",
     "text": [
      "Length of the string \"python\" is:  6\n"
     ]
    }
   ],
   "source": [
    "#  i) To calculate the length of a string\n",
    "name=\"python\"\n",
    "ctr = 0   # c is a counter\n",
    "for c in name: # traverse the string \n",
    "    ctr+=1 #increment the counter\n",
    "    \n",
    "print (\"Length of the string \\\"python\\\" is: \",ctr) # displays the length (6) of the string “python”"
   ]
  },
  {
   "cell_type": "code",
   "execution_count": 115,
   "id": "cbadf62c",
   "metadata": {},
   "outputs": [
    {
     "name": "stdout",
     "output_type": "stream",
     "text": [
      "  Program Abhiseks is This\n"
     ]
    }
   ],
   "source": [
    "# ii) To reverse words in a string\n",
    "inp_string = \"This is Abhiseks Program\"\n",
    "words = inp_string.split()\n",
    "rev_words = list(reversed(words))\n",
    "rev_string = ' '\n",
    "\n",
    "for c in rev_words: # traverse the string \n",
    "        rev_string = rev_string+ \" \"+c\n",
    "        \n",
    "print (rev_string)"
   ]
  },
  {
   "cell_type": "code",
   "execution_count": 119,
   "id": "ee7e94b1",
   "metadata": {},
   "outputs": [
    {
     "name": "stdout",
     "output_type": "stream",
     "text": [
      "Enter your string: abhi\n",
      "Enter the number of times to display the string: 3\n",
      "String displayed  3  times: \t\t abhiabhiabhi\n"
     ]
    }
   ],
   "source": [
    "#  iii) To display the same string multiple times\n",
    "inp_string = input(\"Enter your string: \")\n",
    "ntimes = int(input(\"Enter the number of times to display the string: \"))\n",
    "final_string = inp_string * ntimes\n",
    "print(\"String displayed \", ntimes, \" times: \", final_string,)"
   ]
  },
  {
   "cell_type": "code",
   "execution_count": 121,
   "id": "f2ef6afa",
   "metadata": {},
   "outputs": [
    {
     "name": "stdout",
     "output_type": "stream",
     "text": [
      "Enter the first string: abhi\n",
      "Enter the second string: das\n",
      "Concatenated String (Method 1): abhi das\n"
     ]
    }
   ],
   "source": [
    "#  iv) To concatenate two strings\n",
    "str1 = input(\"Enter the first string: \")\n",
    "str2 = input(\"Enter the second string: \")\n",
    "concatenated_string = str1 +\" \"+ str2\n",
    "print(\"Concatenated String: \", concatenated_string)\n"
   ]
  },
  {
   "cell_type": "code",
   "execution_count": 122,
   "id": "858eac7f",
   "metadata": {},
   "outputs": [
    {
     "name": "stdout",
     "output_type": "stream",
     "text": [
      "Result: India\n"
     ]
    }
   ],
   "source": [
    "#  V) Stri=\" South India\", using string slicing to display \"India\"\n",
    "Stri = \"South India\"\n",
    "result = Stri[-5:]\n",
    "print(\"Result:\", result)\n"
   ]
  },
  {
   "cell_type": "markdown",
   "id": "d5262f11",
   "metadata": {},
   "source": [
    "# 6. Perform the following:\n",
    "    \n",
    "    i) Creating the Dictionary.\n",
    "\n",
    "    ii) Accessing values and keys in the Dictionary.\n",
    "\n",
    "    iii) Updating the dictionary using a function.\n",
    "\n",
    "    iv) Clear and delete the dictionary values"
   ]
  },
  {
   "cell_type": "code",
   "execution_count": 123,
   "id": "6ee67653",
   "metadata": {},
   "outputs": [
    {
     "name": "stdout",
     "output_type": "stream",
     "text": [
      "{'name': 'Abhisek', 'age': 25, 'location': 'Odisha'}\n"
     ]
    }
   ],
   "source": [
    "#     i) Creating the Dictionary.\n",
    "details = {'name': 'Abhisek', 'age': 25, 'location': 'Odisha'}\n",
    "print(details)\n"
   ]
  },
  {
   "cell_type": "code",
   "execution_count": 126,
   "id": "1d985b45",
   "metadata": {},
   "outputs": [
    {
     "name": "stdout",
     "output_type": "stream",
     "text": [
      "name : Abhisek\n",
      "age : 25\n",
      "location : Odisha\n"
     ]
    }
   ],
   "source": [
    "#    ii) Accessing values and keys in the Dictionary.\n",
    "for key, value in details.items():\n",
    "    print(key,\":\", value)\n",
    "        \n"
   ]
  },
  {
   "cell_type": "code",
   "execution_count": 130,
   "id": "5e40e11e",
   "metadata": {},
   "outputs": [
    {
     "name": "stdout",
     "output_type": "stream",
     "text": [
      "{'name': 'Abhisek', 'age': 25, 'location': 'Odisha', 'department': 'IT'}\n"
     ]
    }
   ],
   "source": [
    "#   iii) Updating the dictionary using a function.\n",
    "details.update({\"department\":\"IT\"})\n",
    "print(details)"
   ]
  },
  {
   "cell_type": "code",
   "execution_count": 134,
   "id": "1dd51651",
   "metadata": {},
   "outputs": [
    {
     "ename": "NameError",
     "evalue": "name 'details' is not defined",
     "output_type": "error",
     "traceback": [
      "\u001b[1;31m---------------------------------------------------------------------------\u001b[0m",
      "\u001b[1;31mNameError\u001b[0m                                 Traceback (most recent call last)",
      "Cell \u001b[1;32mIn[134], line 2\u001b[0m\n\u001b[0;32m      1\u001b[0m \u001b[38;5;66;03m#     iv) Clear and delete the dictionary values\u001b[39;00m\n\u001b[1;32m----> 2\u001b[0m details\u001b[38;5;241m.\u001b[39mclear()\n\u001b[0;32m      3\u001b[0m \u001b[38;5;28mprint\u001b[39m(details)\n\u001b[0;32m      4\u001b[0m \u001b[38;5;28;01mdel\u001b[39;00m details\n",
      "\u001b[1;31mNameError\u001b[0m: name 'details' is not defined"
     ]
    }
   ],
   "source": [
    "#     iv) Clear and delete the dictionary values\n",
    "details.clear()\n",
    "print(details)\n",
    "del details\n",
    "print(details)\n"
   ]
  },
  {
   "cell_type": "markdown",
   "id": "43861b73",
   "metadata": {},
   "source": [
    "# 7. Python program to insert a number to any position in a list."
   ]
  },
  {
   "cell_type": "code",
   "execution_count": 151,
   "id": "ca5f7c25",
   "metadata": {},
   "outputs": [
    {
     "name": "stdout",
     "output_type": "stream",
     "text": [
      "After Inserting:  [1, 2, 3, 4, 5, 6, 7, 8]\n"
     ]
    }
   ],
   "source": [
    "listnum=[1,2,3,4,6,7,8]\n",
    "\n",
    "listnum.insert(4,5)\n",
    "print(\"After Inserting: \",listnum)\n"
   ]
  },
  {
   "cell_type": "markdown",
   "id": "d69fb0b9",
   "metadata": {},
   "source": [
    "# 8. Python program to delete an element from a list by index."
   ]
  },
  {
   "cell_type": "code",
   "execution_count": 153,
   "id": "12c19d08",
   "metadata": {},
   "outputs": [
    {
     "name": "stdout",
     "output_type": "stream",
     "text": [
      "[1, 2, 3, 4, 5, 6, 7, 8]\n",
      "Delete element at Index 4:  5\n",
      "[1, 2, 3, 4, 6, 7, 8]\n"
     ]
    }
   ],
   "source": [
    "print(listnum)\n",
    "print(\"Delete element at Index 4: \",listnum.pop(4))\n",
    "print(listnum)\n"
   ]
  },
  {
   "cell_type": "markdown",
   "id": "15ea5e4e",
   "metadata": {},
   "source": [
    "# 9. Write a program to display a number from 1 to 100.\n"
   ]
  },
  {
   "cell_type": "code",
   "execution_count": 157,
   "id": "2a0b88b1",
   "metadata": {},
   "outputs": [
    {
     "name": "stdout",
     "output_type": "stream",
     "text": [
      "1  \t\n",
      "2  \t\n",
      "3  \t\n",
      "4  \t\n",
      "5  \t\n",
      "6  \t\n",
      "7  \t\n",
      "8  \t\n",
      "9  \t\n",
      "10  \t\n",
      "11  \t\n",
      "12  \t\n",
      "13  \t\n",
      "14  \t\n",
      "15  \t\n",
      "16  \t\n",
      "17  \t\n",
      "18  \t\n",
      "19  \t\n",
      "20  \t\n",
      "21  \t\n",
      "22  \t\n",
      "23  \t\n",
      "24  \t\n",
      "25  \t\n",
      "26  \t\n",
      "27  \t\n",
      "28  \t\n",
      "29  \t\n",
      "30  \t\n",
      "31  \t\n",
      "32  \t\n",
      "33  \t\n",
      "34  \t\n",
      "35  \t\n",
      "36  \t\n",
      "37  \t\n",
      "38  \t\n",
      "39  \t\n",
      "40  \t\n",
      "41  \t\n",
      "42  \t\n",
      "43  \t\n",
      "44  \t\n",
      "45  \t\n",
      "46  \t\n",
      "47  \t\n",
      "48  \t\n",
      "49  \t\n",
      "50  \t\n",
      "51  \t\n",
      "52  \t\n",
      "53  \t\n",
      "54  \t\n",
      "55  \t\n",
      "56  \t\n",
      "57  \t\n",
      "58  \t\n",
      "59  \t\n",
      "60  \t\n",
      "61  \t\n",
      "62  \t\n",
      "63  \t\n",
      "64  \t\n",
      "65  \t\n",
      "66  \t\n",
      "67  \t\n",
      "68  \t\n",
      "69  \t\n",
      "70  \t\n",
      "71  \t\n",
      "72  \t\n",
      "73  \t\n",
      "74  \t\n",
      "75  \t\n",
      "76  \t\n",
      "77  \t\n",
      "78  \t\n",
      "79  \t\n",
      "80  \t\n",
      "81  \t\n",
      "82  \t\n",
      "83  \t\n",
      "84  \t\n",
      "85  \t\n",
      "86  \t\n",
      "87  \t\n",
      "88  \t\n",
      "89  \t\n",
      "90  \t\n",
      "91  \t\n",
      "92  \t\n",
      "93  \t\n",
      "94  \t\n",
      "95  \t\n",
      "96  \t\n",
      "97  \t\n",
      "98  \t\n",
      "99  \t\n",
      "100  \t\n"
     ]
    }
   ],
   "source": [
    "number = 1\n",
    "while number <= 100:\n",
    "    print(number)\n",
    "    number += 1"
   ]
  },
  {
   "cell_type": "markdown",
   "id": "f4260e65",
   "metadata": {},
   "source": [
    "# 10. Write a Python program to find the sum of all items in a tuple."
   ]
  },
  {
   "cell_type": "code",
   "execution_count": 160,
   "id": "d99ffdf0",
   "metadata": {},
   "outputs": [
    {
     "name": "stdout",
     "output_type": "stream",
     "text": [
      "Sum of all items in a tuple: 15\n"
     ]
    }
   ],
   "source": [
    "tupl=(1,2,3,4,5)\n",
    "sum=0\n",
    "for i in tupl:\n",
    "    sum+=i\n",
    "print(\"Sum of all items in a tuple:\",sum)"
   ]
  },
  {
   "cell_type": "markdown",
   "id": "85d49001",
   "metadata": {},
   "source": [
    "# 11. Create a dictionary containing three lambda functions square, cube and square root.\n",
    "\n",
    "    i)  E.g. dict=('Square': function for squaring, 'Cube': function for cube, 'Squareroot':function for square root}\n",
    "\n",
    "    ii) Pass the values (input from the user) to the functions in the dictionary respectively.\n",
    "\n",
    "    iii) Then add the outputs of each function and print it."
   ]
  },
  {
   "cell_type": "code",
   "execution_count": 94,
   "id": "f39dbd00",
   "metadata": {},
   "outputs": [
    {
     "name": "stdout",
     "output_type": "stream",
     "text": [
      "Enter value of x: 4\n",
      "82.0\n"
     ]
    }
   ],
   "source": [
    "# i)\n",
    "dict = {\n",
    "    'Square': lambda x: x ** 2,\n",
    "    'Cube': lambda x: x ** 3,\n",
    "    'Squareroot': lambda x: x ** 0.5\n",
    "}\n",
    "# ii)\n",
    "x= int(input(\"Enter value of x: \"))\n",
    "\n",
    "square_result = dict['Square'](x)\n",
    "cube_result = dict['Cube'](x)\n",
    "squareroot_result = dict['Squareroot'](x)\n",
    "\n",
    "adding = square_result + cube_result + squareroot_result\n",
    "\n",
    "print(adding)"
   ]
  },
  {
   "cell_type": "code",
   "execution_count": null,
   "id": "7fe0c12b",
   "metadata": {},
   "outputs": [],
   "source": [
    "\n",
    "\n",
    "square_result = dict['Square'](x)\n",
    "cube_result = dict['Cube'](x)\n",
    "square_root_result = dict['Squareroot'](x)\n"
   ]
  },
  {
   "cell_type": "markdown",
   "id": "c9193c56",
   "metadata": {},
   "source": [
    "# 12. A list of words is given. Find the words from the list that have their second character in uppercase.\n",
    "\n",
    "ls=['hello', 'Dear', 'hOw', 'ARe', 'You']"
   ]
  },
  {
   "cell_type": "code",
   "execution_count": 124,
   "id": "29de52b0",
   "metadata": {},
   "outputs": [
    {
     "name": "stdout",
     "output_type": "stream",
     "text": [
      "hOw\n",
      "ARe\n"
     ]
    }
   ],
   "source": [
    "ls=['hello', 'Dear', 'hOw', 'ARe', 'You']\n",
    "ls\n",
    "\n",
    "for i in ls:\n",
    "    if i[1]==i[1].upper():\n",
    "           print(i)\n",
    "          "
   ]
  },
  {
   "cell_type": "markdown",
   "id": "d7f49a7f",
   "metadata": {},
   "source": [
    "# 13. A dictionary of names and their weights on earth is given. Find how much they will weigh on the moon. (Use map and lambda functions) Formula: wMoon = (wEarth * GMoon) / GEarth\n",
    "\n",
    "i) #Weight of people in kg\n",
    "    WeightOnEarth = ('John':45, 'Shelly':65, 'Marry':35 \n",
    "\n",
    "ii) #Gravitational force on the Moon: 1.622 m/s2\n",
    "      GMoon = 1.622\n",
    "\n",
    "iii) #Gravitational force on the Earth: 9.81 m/s2\n",
    "      GEarth 9.81\n"
   ]
  },
  {
   "cell_type": "code",
   "execution_count": 102,
   "id": "29d905bb",
   "metadata": {},
   "outputs": [
    {
     "name": "stdout",
     "output_type": "stream",
     "text": [
      "John's weight on the moon: 7.44 kg\n",
      "Shelly's weight on the moon: 10.75 kg\n",
      "Marry's weight on the moon: 5.79 kg\n"
     ]
    }
   ],
   "source": [
    "# Weight of people on Earth in kg\n",
    "WeightOnEarth = {'John': 45, 'Shelly': 65, 'Marry': 35}\n",
    "\n",
    "# Gravitational force on the Moon: 1.622 m/s^2\n",
    "GMoon = 1.622\n",
    "\n",
    "# Gravitational force on the Earth: 9.81 m/s^2\n",
    "GEarth = 9.81\n",
    "\n",
    "# Initialize an empty dictionary for WeightOnMoon\n",
    "WeightOnMoon = {}\n",
    "\n",
    "# Use map and lambda to calculate weights on the moon and populate WeightOnMoon\n",
    "for person, weight in map(lambda person_weight: (person_weight[0], (person_weight[1] * GMoon) / GEarth), WeightOnEarth.items()):\n",
    "    WeightOnMoon[person] = weight\n",
    "\n",
    "# Print the weights on the moon\n",
    "for person, weight_moon in WeightOnMoon.items():\n",
    "    print(f\"{person}'s weight on the moon: {weight_moon:.2f} kg\")\n"
   ]
  },
  {
   "cell_type": "markdown",
   "id": "93d36174",
   "metadata": {},
   "source": [
    "# Control Structures: \n"
   ]
  },
  {
   "cell_type": "code",
   "execution_count": 103,
   "id": "5575b757",
   "metadata": {},
   "outputs": [
    {
     "name": "stdout",
     "output_type": "stream",
     "text": [
      "Enter the value of N: 5\n",
      "The first 5 prime numbers are: [2, 3, 5, 7, 11]\n"
     ]
    }
   ],
   "source": [
    "# 1. Write a python program to find the first N Prime numbers.\n",
    "\n",
    "N = int(input(\"Enter the value of N: \"))\n",
    "prime_nos = []\n",
    "\n",
    "num = 2\n",
    "while len(prime_nos) < N:\n",
    "    is_prime = True\n",
    "    for i in range(2, int(num**(1/2)) + 1):\n",
    "        if num % i == 0:\n",
    "            is_prime = False\n",
    "            break\n",
    "    if is_prime:\n",
    "        prime_nos.append(num)\n",
    "    num += 1\n",
    "\n",
    "print(f\"The first {N} prime numbers are: {prime_nos}\")\n"
   ]
  },
  {
   "cell_type": "code",
   "execution_count": 6,
   "id": "b09a42ed",
   "metadata": {},
   "outputs": [
    {
     "name": "stdout",
     "output_type": "stream",
     "text": [
      "Enter Basic Salary: 444444\n",
      "Enter HRA: 15\n",
      "Enter TA: 2652\n",
      "Enter DA: 525\n",
      "Gross Salary: 447636.0\n",
      "Tax: 44763.60\n",
      "Net Salary: 402872.40\n"
     ]
    }
   ],
   "source": [
    "# 2. Write the python code that calculates the salary of an employee. \n",
    "# Prompt the user to enter the Basic Salary, HRA, TA, and DA. \n",
    "# Add these components to calculate the Gross Salary. Also, deduct 10% of salary from the Gross Salary to be paid as tax and display gross minus tax as net salary.\n",
    "\n",
    "basic_salary = float(input(\"Enter Basic Salary: \"))\n",
    "hra = float(input(\"Enter HRA: \"))\n",
    "ta = float(input(\"Enter TA: \"))\n",
    "da = float(input(\"Enter DA: \"))\n",
    "\n",
    "# Calculate the Gross Salary\n",
    "gross_salary = basic_salary + hra + ta + da\n",
    "\n",
    "# Calculate tax (10% of Gross Salary)\n",
    "tax = 0.1 * gross_salary\n",
    "\n",
    "# Calculate Net Salary (Gross Salary - Tax)\n",
    "net_salary = gross_salary - tax\n",
    "\n",
    "# Display the Gross Salary, Tax, and Net Salary\n",
    "print(f\"Gross Salary: {gross_salary:.2f}\")\n",
    "print(f\"Tax: {tax:.2f}\")\n",
    "print(f\"Net Salary: {net_salary:.2f}\")"
   ]
  },
  {
   "cell_type": "code",
   "execution_count": 9,
   "id": "e4ca95e8",
   "metadata": {},
   "outputs": [
    {
     "name": "stdout",
     "output_type": "stream",
     "text": [
      "'cherry' is found in the list.\n"
     ]
    }
   ],
   "source": [
    "# 3. Write a python program to search for a string in the given list.\n",
    "my_list = [\"apple\", \"banana\", \"cherry\", \"date\", \"elderberry\"]\n",
    "\n",
    "search_string = \"cherry\"\n",
    "\n",
    "# Check if the search_string is in the list\n",
    "if search_string in my_list:\n",
    "    print(f\"'{search_string}' is found in the list.\")\n",
    "else:\n",
    "    print(f\"'{search_string}' is not found in the list.\")\n"
   ]
  },
  {
   "cell_type": "code",
   "execution_count": 24,
   "id": "73546f3f",
   "metadata": {},
   "outputs": [
    {
     "name": "stdout",
     "output_type": "stream",
     "text": [
      "Enter Your String:Abhisek Das\n",
      "Uppercase letters: 2\n",
      "Lowercase letters: 8\n"
     ]
    }
   ],
   "source": [
    "# 4. Write a Python function that accepts a string and calculates the number of upper-case letters and lower-case letters.\n",
    " \n",
    "def counting(string):\n",
    "# Initialize counters for uppercase and lowercase letters\n",
    "    ucase_count = 0\n",
    "    lcase_count = 0\n",
    "\n",
    "# Iterate through each character in the input string\n",
    "    for c in string:\n",
    "        # Check if the character is an uppercase letter\n",
    "        if c.isupper():\n",
    "            ucase_count += 1\n",
    "        # Check if the character is a lowercase letter\n",
    "        elif c.islower():\n",
    "            lcase_count += 1\n",
    "\n",
    "    return ucase_count, lcase_count\n",
    "\n",
    "# Main Function:\n",
    "input_str = input(\"Enter Your String:\" )\n",
    "ucase_count, lcase_count = counting(input_str)\n",
    "\n",
    "print(f\"Uppercase letters: {ucase_count}\")\n",
    "print(f\"Lowercase letters: {lcase_count}\")\n"
   ]
  },
  {
   "cell_type": "code",
   "execution_count": 23,
   "id": "a765c689",
   "metadata": {},
   "outputs": [
    {
     "name": "stdout",
     "output_type": "stream",
     "text": [
      "Sum of odd numbers: 325\n",
      "Sum of even numbers: 312\n"
     ]
    }
   ],
   "source": [
    "# 5. Write a program to display the sum of odd numbers and even numbers that fall between 12 and 37.\n",
    "\n",
    "# Initialize variables to store the sums\n",
    "sum_odd = 0\n",
    "sum_even = 0\n",
    "\n",
    "# Loop through numbers from 12 to 37\n",
    "for number in range(12, 38): \n",
    "    # Check if the number is odd or even\n",
    "    if number % 2 != 0:\n",
    "        sum_odd += number  # Add odd number to the sum_odd variable\n",
    "    else:\n",
    "        sum_even += number  # Add even number to the sum_even variable\n",
    "\n",
    "# Display the sums\n",
    "print(\"Sum of odd numbers:\", sum_odd)\n",
    "print(\"Sum of even numbers:\", sum_even)\n"
   ]
  },
  {
   "cell_type": "code",
   "execution_count": 1,
   "id": "f062eb72",
   "metadata": {},
   "outputs": [
    {
     "name": "stdout",
     "output_type": "stream",
     "text": [
      "Enter a no: 5\n",
      "|5 * 1  |: 5\n",
      "|5 * 2  |: 10\n",
      "|5 * 3  |: 15\n",
      "|5 * 4  |: 20\n",
      "|5 * 5  |: 25\n",
      "|5 * 6  |: 30\n",
      "|5 * 7  |: 35\n",
      "|5 * 8  |: 40\n",
      "|5 * 9  |: 45\n",
      "|5 * 10  |: 50\n"
     ]
    }
   ],
   "source": [
    "# 6. Write a python Program to print the table of any number.\n",
    "\n",
    "no =int(input(\"Enter a no: \"))\n",
    "for i in range (1,11):\n",
    "    print(f\"|{no} * {i}  |:\",no*i)\n",
    "\n",
    "\n"
   ]
  },
  {
   "cell_type": "code",
   "execution_count": 2,
   "id": "fc0e32e5",
   "metadata": {},
   "outputs": [
    {
     "name": "stdout",
     "output_type": "stream",
     "text": [
      "The first 10 prime numbers are: [2, 3, 5, 7, 11, 13, 17, 19, 23, 29]\n",
      "sum the first 10 prime numbers is :  129\n"
     ]
    }
   ],
   "source": [
    "# 7. Write a Python program to sum the first 10 prime numbers.\n",
    "\n",
    "N = 10\n",
    "prime_nos = []\n",
    "sum=0\n",
    "\n",
    "num = 2\n",
    "while len(prime_nos) < N:\n",
    "    is_prime = True\n",
    "    for i in range(2, int(num**(1/2)) + 1):\n",
    "        if num % i == 0:\n",
    "            is_prime = False\n",
    "            break\n",
    "    if is_prime:\n",
    "        prime_nos.append(num)\n",
    "        sum+=num\n",
    "    num += 1\n",
    "\n",
    "print(f\"The first {N} prime numbers are: {prime_nos}\")\n",
    "print(\"sum the first 10 prime numbers is : \",sum)\n"
   ]
  },
  {
   "cell_type": "code",
   "execution_count": null,
   "id": "ce242d48",
   "metadata": {},
   "outputs": [],
   "source": [
    "# 8. Write a python program to implement arithmetic operations using nested if statement. \n",
    "\n",
    "num1 = float(input(\"Enter the first number: \"))\n",
    "num2 = float(input(\"Enter the second number: \"))\n",
    "operation = input(\"Enter the operation (+ for addition, - for subtraction, * for multiplication, / for division): \")\n",
    "\n",
    "# Perform arithmetic operations based on user input\n",
    "if operation == '+':\n",
    "    result = num1 + num2\n",
    "    print(\"Result:\", result)\n",
    "elif operation == '-':\n",
    "    result = num1 - num2\n",
    "    print(\"Result:\", result)\n",
    "elif operation == '*':\n",
    "    result = num1 * num2\n",
    "    print(\"Result:\", result)\n",
    "elif operation == '/':\n",
    "    if num2 != 0:\n",
    "        result = num1 / num2\n",
    "        print(\"Result:\", result)\n",
    "    else:\n",
    "        print(\"Error: Division by zero is not allowed.\")\n",
    "else:\n",
    "    print(\"Invalid operation.\")\n"
   ]
  },
  {
   "cell_type": "code",
   "execution_count": 2,
   "id": "d0bfffa8",
   "metadata": {},
   "outputs": [
    {
     "name": "stdout",
     "output_type": "stream",
     "text": [
      "Enter The Temperature Value in Celcius: 45\n",
      "Temperature 45 deg celsius is equals to 113.0 deg Fahrenheit\n"
     ]
    }
   ],
   "source": [
    "# 9. Write a python program to take the temperature in Celsius and convert it to a Fahrenheit. \n",
    "\n",
    "TempC = int(input(\"Enter The Temperature Value in Celcius: \"))\n",
    "TempF = (TempC * 9/5) + 32 \n",
    "print(f\"Temperature {TempC} deg celsius is equals to {TempF} deg Fahrenheit\")"
   ]
  },
  {
   "cell_type": "code",
   "execution_count": 16,
   "id": "a1588360",
   "metadata": {},
   "outputs": [
    {
     "name": "stdout",
     "output_type": "stream",
     "text": [
      "Maximum No in list:  8\n",
      "Minimum No in list:  1\n"
     ]
    }
   ],
   "source": [
    "# 10. Write a python program to find a maximum and minimum number in a list without using an inbuilt function. \n",
    "\n",
    "lnum=[3,4,5,1,2,8,7,6]\n",
    "minnum = maxnum=lnum[0]\n",
    "\n",
    "for i in lnum:\n",
    "    if i > maxnum:\n",
    "        maxnum = i\n",
    "    elif i< minnum:\n",
    "        minnum = i\n",
    "\n",
    "print(\"Maximum No in list: \",maxnum)\n",
    "print(\"Minimum No in list: \",minnum)\n",
    "\n"
   ]
  },
  {
   "cell_type": "code",
   "execution_count": 19,
   "id": "a09cddb7",
   "metadata": {},
   "outputs": [
    {
     "name": "stdout",
     "output_type": "stream",
     "text": [
      "Enter No of days: 30\n",
      "30 days month have: 2592000 seconds. \n"
     ]
    }
   ],
   "source": [
    "# 11. Write a program in python to print out the number of seconds in 30-day month 30 days, 24 hours in a day, 60 minutes per day, 60 seconds in a minute.\n",
    "\n",
    "days=int(input(\"Enter No of days: \"))\n",
    "hour=24\n",
    "minute=60\n",
    "sec=60\n",
    "totalsec= days * hour * minute * sec\n",
    "\n",
    "print(f\"{days} days month have: {totalsec} seconds. \")\n",
    "\n",
    "\n"
   ]
  },
  {
   "cell_type": "code",
   "execution_count": 26,
   "id": "8d974465",
   "metadata": {},
   "outputs": [
    {
     "name": "stdout",
     "output_type": "stream",
     "text": [
      "Enter Your Year: 2021\n",
      "2021 year have: 31536000 seconds\n"
     ]
    }
   ],
   "source": [
    "# 12. Write a program in python to print out the number of seconds in a year.\n",
    "\n",
    "year = int(input(\"Enter Your Year: \"))\n",
    "DaysN = 365\n",
    "DaysL = 366\n",
    "\n",
    "hour=24\n",
    "minute=60\n",
    "sec=60\n",
    "\n",
    "if year % 4 != 0:\n",
    "    totalsec= DaysN * hour * minute * sec\n",
    "else:\n",
    "    totalsec= DaysL * hour * minute * sec\n",
    "        \n",
    "print(f\"{year} year have: {totalsec} seconds\")\n",
    "\n"
   ]
  },
  {
   "cell_type": "code",
   "execution_count": 28,
   "id": "c09cd62c",
   "metadata": {},
   "outputs": [
    {
     "name": "stdout",
     "output_type": "stream",
     "text": [
      "It will take 2.76 hours to travel from London to Glasgow.\n"
     ]
    }
   ],
   "source": [
    "# 13. A high-speed train can travel at an average speed of 150 mph, how long will it take a train travelling at this speed to travel from London to Glasgow which is 414 miles away? \n",
    "\n",
    "distance = 414  # miles\n",
    "speed = 150     # mph\n",
    "\n",
    "# Calculate the time in hours\n",
    "time_hours = (distance / speed)\n",
    "\n",
    "# Print the result\n",
    "print(\"It will take\", time_hours, \"hours to travel from London to Glasgow.\")"
   ]
  },
  {
   "cell_type": "code",
   "execution_count": 29,
   "id": "9f699bd4",
   "metadata": {},
   "outputs": [
    {
     "name": "stdout",
     "output_type": "stream",
     "text": [
      "Total hours spent in school from year 7 to year 11: 51840\n"
     ]
    }
   ],
   "source": [
    "# 14. Write a python program that defines a variable called days_in_each_school_year and assign 192 to the variable. \n",
    "\"\"\"The program should then print out the total hours that you spend in school from year 7 to year 11, \n",
    "if each day you spend 6 hours in school days_in_each_school_year = 192 \"\"\"\n",
    "\n",
    "# Define the number of school days in each school year\n",
    "days_in_each_school_year = 192\n",
    "each_day_spend =6\n",
    "\n",
    "total_hours_spend_in_school = 0\n",
    "for year in range(7, 12):\n",
    "    total_hours_spend_in_school += year * days_in_each_school_year * each_day_spend\n",
    "\n",
    "print(\"Total hours spent in school from year 7 to year 11:\", total_hours_spend_in_school)\n"
   ]
  },
  {
   "cell_type": "code",
   "execution_count": 30,
   "id": "8a07af49",
   "metadata": {},
   "outputs": [
    {
     "name": "stdout",
     "output_type": "stream",
     "text": [
      "Enter the age of Ram: 10\n",
      "Enter the age of Sam: 115\n",
      "Enter the age of Khan: 50\n",
      "The eldest among Ram, Sam, and Khan is Sam.\n",
      "The youngest among Ram, Sam, and Khan is Ram.\n"
     ]
    }
   ],
   "source": [
    "# 15. If the age of Ram,Sam and Khan are input through the keyboard,\n",
    "# write a python program to determine the eldest and youngest of the three. \n",
    "\n",
    "Ram_age = int(input(\"Enter the age of Ram: \"))\n",
    "Sam_age = int(input(\"Enter the age of Sam: \"))\n",
    "Khan_age = int(input(\"Enter the age of Khan: \"))\n",
    "\n",
    "# Assume Ram is the eldest and youngest initially\n",
    "eldest = \"Ram\"\n",
    "youngest = \"Ram\"\n",
    "\n",
    "# Compare ages to find the eldest and youngest\n",
    "if Sam_age > Ram_age:\n",
    "    eldest = \"Sam\"\n",
    "    youngest = \"Ram\"\n",
    "\n",
    "if Khan_age > Sam_age:\n",
    "    eldest = \"Khan\"\n",
    "    youngest = \"Sam\"\n",
    "\n",
    "if Khan_age > Ram_age:\n",
    "    youngest = \"Ram\"\n",
    "\n",
    "print(f\"The eldest among Ram, Sam, and Khan is {eldest}.\")\n",
    "print(f\"The youngest among Ram, Sam, and Khan is {youngest}.\")\n",
    "\n"
   ]
  },
  {
   "cell_type": "code",
   "execution_count": 45,
   "id": "509f25ac",
   "metadata": {},
   "outputs": [
    {
     "name": "stdout",
     "output_type": "stream",
     "text": [
      "Rotated list without Slicing functions: [5, 1, 2, 3, 4]\n"
     ]
    }
   ],
   "source": [
    "# 16. Write a python program to rotate a list by right n times with and without slicing technique.\n",
    "\n",
    "\n",
    "my_list = [1, 2, 3, 4, 5]\n",
    "n = 6 # Number of rotations\n",
    "\n",
    "# Ensure n is within the range of the list length\n",
    "n = n % len(my_list)\n",
    "\n",
    "# Rotate the list without using functions\n",
    "rotated_list = [0] * len(my_list)\n",
    "for i in range(len(my_list)):\n",
    "    rotated_list[(i + n) % len(my_list)] = my_list[i]\n",
    "\n",
    "print(\"Rotated list without Slicing functions:\", rotated_list)\n",
    "\n"
   ]
  },
  {
   "cell_type": "markdown",
   "id": "4e4bc5ec",
   "metadata": {},
   "source": [
    "# Python Programs to print the pattern\n"
   ]
  },
  {
   "cell_type": "code",
   "execution_count": null,
   "id": "e06e6268",
   "metadata": {},
   "outputs": [],
   "source": [
    "# 1)\n",
    "\n",
    "1\n",
    "1 1\n",
    "1 2 1\n",
    "1 3 3 1\n",
    "1 4 6 4 1\n",
    "1 5 10 10 5 1"
   ]
  },
  {
   "cell_type": "code",
   "execution_count": 61,
   "id": "4b2de9e9",
   "metadata": {},
   "outputs": [
    {
     "name": "stdout",
     "output_type": "stream",
     "text": [
      "Enter the number of rows: 5\n",
      "[1]\n",
      "[1, 1]\n",
      "[1, 2, 1]\n",
      "[1, 3, 3, 1]\n",
      "[1, 4, 6, 4, 1]\n",
      "[1, 5, 10, 10, 5, 1]\n"
     ]
    }
   ],
   "source": [
    "n =int(input(\"Enter the number of rows: \"))\n",
    "\n",
    "# Initialize the first row\n",
    "row = [1]\n",
    "print(row)  # this is the 1st row\n",
    "\n",
    "# Generate and print the remaining rows\n",
    "for i in range(n):\n",
    "    new_row = [1]  # this is applicable for all rows , starts with 1 \n",
    "    \n",
    "    for i in range(1, len(row)):\n",
    "        new_row.append(row[i - 1] + row[i]) # calcuating the middle elements\n",
    "        \n",
    "    new_row.append(1) # this is applicable for all rows , ends with 1 \n",
    "    row=new_row  # \n",
    "    print(row)\n",
    "    \n"
   ]
  },
  {
   "cell_type": "raw",
   "id": "8d4a1004",
   "metadata": {},
   "source": [
    "2)\n",
    "\n",
    "*\n",
    "* *\n",
    "* * *\n",
    "* * * *\n",
    "* * * * *"
   ]
  },
  {
   "cell_type": "code",
   "execution_count": 69,
   "id": "317bafea",
   "metadata": {},
   "outputs": [
    {
     "name": "stdout",
     "output_type": "stream",
     "text": [
      "Enter the number of rows: 5\n",
      "* \n",
      "* * \n",
      "* * * \n",
      "* * * * \n",
      "* * * * * \n"
     ]
    }
   ],
   "source": [
    "n =int(input(\"Enter the number of rows: \"))\n",
    "\n",
    "# Loop through each row\n",
    "for i in range(1, n + 1):\n",
    "    # Printing '*' character 'i' times in the current row\n",
    "    for j in range(i):\n",
    "        print('*', end=' ')\n",
    "    # next line to start a new row\n",
    "    print()"
   ]
  },
  {
   "cell_type": "raw",
   "id": "67e736bd",
   "metadata": {},
   "source": [
    "3)\n",
    "\n",
    "      *\n",
    "     * *\n",
    "    * * *\n",
    "   * * * *\n",
    "  * * * * *\n",
    " * * * * * *\n",
    "* * * * * * *"
   ]
  },
  {
   "cell_type": "code",
   "execution_count": 74,
   "id": "6d06d79c",
   "metadata": {},
   "outputs": [
    {
     "name": "stdout",
     "output_type": "stream",
     "text": [
      "Enter the number of rows: 5\n",
      "    * \n",
      "   * * \n",
      "  * * * \n",
      " * * * * \n",
      "* * * * * \n"
     ]
    }
   ],
   "source": [
    "n =int(input(\"Enter the number of rows: \"))\n",
    "\n",
    "\n",
    "# Loop through each row\n",
    "for i in range(1, n + 1):\n",
    "    # Print spaces for padding\n",
    "    for j in range(n - i):\n",
    "        print(end=' ')\n",
    "    \n",
    "    # Print '*' character 'i' times in the current row\n",
    "    for j in range(i):\n",
    "        print('*', end=' ')\n",
    "    \n",
    "    # Move to the next line to start a new row\n",
    "    print()\n"
   ]
  },
  {
   "cell_type": "raw",
   "id": "d9963185",
   "metadata": {},
   "source": [
    "4) \n",
    "\n",
    "P\n",
    "Py\n",
    "Pyt\n",
    "Pyth\n",
    "Pytho\n",
    "Python"
   ]
  },
  {
   "cell_type": "code",
   "execution_count": 80,
   "id": "c4486569",
   "metadata": {},
   "outputs": [
    {
     "name": "stdout",
     "output_type": "stream",
     "text": [
      "P\n",
      "Py\n",
      "Pyt\n",
      "Pyth\n",
      "Pytho\n",
      "Python\n"
     ]
    }
   ],
   "source": [
    "my_str = \"Python\"\n",
    "\n",
    "for i in range(len(my_str)):\n",
    "    print(word[:i+1])\n"
   ]
  }
 ],
 "metadata": {
  "celltoolbar": "Raw Cell Format",
  "kernelspec": {
   "display_name": "Python 3 (ipykernel)",
   "language": "python",
   "name": "python3"
  },
  "language_info": {
   "codemirror_mode": {
    "name": "ipython",
    "version": 3
   },
   "file_extension": ".py",
   "mimetype": "text/x-python",
   "name": "python",
   "nbconvert_exporter": "python",
   "pygments_lexer": "ipython3",
   "version": "3.11.4"
  }
 },
 "nbformat": 4,
 "nbformat_minor": 5
}
