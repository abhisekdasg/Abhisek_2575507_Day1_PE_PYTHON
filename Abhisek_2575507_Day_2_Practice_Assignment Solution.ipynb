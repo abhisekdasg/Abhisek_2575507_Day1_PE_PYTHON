{
 "cells": [
  {
   "cell_type": "markdown",
   "id": "59236f87",
   "metadata": {},
   "source": [
    "# FUNCTIONS:"
   ]
  },
  {
   "cell_type": "code",
   "execution_count": 1,
   "id": "9facb5e6",
   "metadata": {},
   "outputs": [
    {
     "name": "stdout",
     "output_type": "stream",
     "text": [
      "ListOfNums:  [11, 22, 33, 44, 55, 66]\n",
      "EvenNum:  [22, 44, 66]\n",
      "OddNum:  [11, 33, 55]\n"
     ]
    }
   ],
   "source": [
    "#1 Write a python Function to list even and odd numbers in a list.\n",
    "\n",
    "def even_odd():\n",
    "    list1=[11,22,33,44,55,66]\n",
    "    even_num = []\n",
    "    odd_num = []\n",
    "    \n",
    "    for i in list1:\n",
    "        if i % 2 == 0:\n",
    "            even_num.append(i)\n",
    "        else:\n",
    "            odd_num.append(i)\n",
    "    print('ListOfNums: ',list1)\n",
    "    print(\"EvenNum: \",even_num)\n",
    "    print(\"OddNum: \",odd_num)\n",
    "\n",
    "even_odd()    "
   ]
  },
  {
   "cell_type": "code",
   "execution_count": 1,
   "id": "5863d7d2",
   "metadata": {},
   "outputs": [
    {
     "name": "stdout",
     "output_type": "stream",
     "text": [
      "Enter an integer: 1\n",
      "Enter an integer: 2\n",
      "Enter an integer: 3\n",
      "Enter an integer: 4\n",
      "Enter an integer: 5\n",
      "Enter an integer: 6\n",
      "Enter an integer: 7\n",
      "Enter an integer: 8\n",
      "out 8 since 4 of those numbers were even.\n"
     ]
    }
   ],
   "source": [
    "#2 Write and run a Python program that asks the user to enter 8 integers (one at a time), \n",
    "# and then prints out how many of those integers were even numbers. \n",
    "# For example, if the user entered 19, 6, 9, 20, 13, 7, 6, and 1, then your program should print out 3 since 3 of those numbers were even.\n",
    "\n",
    "def evcounting():\n",
    "    evenno_count = 0\n",
    "      # taking input of 8 integers one at a time\n",
    "    for i in range(8):\n",
    "        no = int(input(\"Enter an integer: \"))\n",
    "        if no % 2 == 0:\n",
    "            evenno_count += 1\n",
    "    return evenno_count\n",
    "\n",
    "# Print the count of even numbers\n",
    "print(f\"out 8 since {evcounting()} of those numbers were even.\")"
   ]
  },
  {
   "cell_type": "code",
   "execution_count": 2,
   "id": "0238c6e3",
   "metadata": {},
   "outputs": [
    {
     "name": "stdout",
     "output_type": "stream",
     "text": [
      "Enter a positive integer: 16\n",
      "16 8 4 2 1\n"
     ]
    }
   ],
   "source": [
    "#3 Write a Python program where you take any positive integer n, if n is even, divide it by 2 to get n/ 2. If n is odd, multiply it by 3 and add 1 to obtain 3n+ 1. Repeat the process until you reach 1.\n",
    "\n",
    "def evdivoddmul(n):\n",
    "    while n != 1:\n",
    "        print(n, end=' ')\n",
    "        if n % 2 == 0:\n",
    "            n //= 2\n",
    "        else:\n",
    "            n = 3 * n + 1\n",
    "\n",
    "    print(1)\n",
    "\n",
    "n = int(input(\"Enter a positive integer: \"))\n",
    "evdivoddmul(n)\n"
   ]
  },
  {
   "cell_type": "code",
   "execution_count": 17,
   "id": "0e977a2c",
   "metadata": {},
   "outputs": [
    {
     "name": "stdout",
     "output_type": "stream",
     "text": [
      "The sum of multiples of 3 or 5 below 500 is:  57918\n"
     ]
    }
   ],
   "source": [
    "#4 Write a Python program to compute the sum of all the multiples of 3 or 5 below 500.\n",
    "def summultiples(n):\n",
    "    sum=0\n",
    "    for i in range(n):\n",
    "        if(i%3==0 or i%5==0):\n",
    "            sum+=i\n",
    "\n",
    "summultiples(500)\n",
    "\n",
    "print('The sum of multiples of 3 or 5 below 500 is: ',sum)"
   ]
  },
  {
   "cell_type": "code",
   "execution_count": 3,
   "id": "66aeda35",
   "metadata": {},
   "outputs": [
    {
     "name": "stdout",
     "output_type": "stream",
     "text": [
      "The first 5 prime numbers from the list are: [2, 3, 5, 7, 11]\n"
     ]
    }
   ],
   "source": [
    "#5 To write a Python program to find first 'n' prime numbers from a list of given numbers.\n",
    "\n",
    "def is_prime(number):\n",
    "    if number <= 1:\n",
    "        return False\n",
    "    elif number == 2:\n",
    "        return True\n",
    "    else:\n",
    "        for i in range(2, int(number**0.5) + 1):\n",
    "            if number % i == 0:\n",
    "                return False\n",
    "        return True\n",
    "\n",
    "def find_n_primes(given_numbers, n):\n",
    "    prime_numbers = []\n",
    "    for num in given_numbers:\n",
    "        if is_prime(num):\n",
    "            prime_numbers.append(num)\n",
    "            if len(prime_numbers) == n:\n",
    "                break\n",
    "    return prime_numbers\n",
    "\n",
    "# Example usage:\n",
    "numberList = [2, 3, 5, 7, 9, 11, 13, 17, 19, 23, 29]  # Replace with your list of numbers\n",
    "n = 5  # Replace with the number of prime numbers you want to find\n",
    "\n",
    "prime_numbers = find_n_primes(numberList, n)\n",
    "print(f\"The first {n} prime numbers from the list are: {prime_numbers}\")\n"
   ]
  },
  {
   "cell_type": "code",
   "execution_count": 4,
   "id": "cfe2ee68",
   "metadata": {},
   "outputs": [
    {
     "name": "stdout",
     "output_type": "stream",
     "text": [
      "[22, 28]\n",
      "[49, 64]\n"
     ]
    }
   ],
   "source": [
    "#6. To write a Python program to compute matrix multiplication.\n",
    "def matrix_multiplication(A, B):\n",
    "    if len(A[0]) != len(B):\n",
    "        raise ValueError(\"Matrix dimensions are incompatible for multiplication\")\n",
    "\n",
    "    # Create an empty result matrix\n",
    "    result = [[0 for _ in range(len(B[0]))] for _ in range(len(A))]\n",
    "\n",
    "    # Perform matrix multiplication\n",
    "    for i in range(len(A)):\n",
    "        for j in range(len(B[0])):\n",
    "            for k in range(len(B)):\n",
    "                result[i][j] += A[i][k] * B[k][j]\n",
    "\n",
    "    return result\n",
    "\n",
    "# Example matrices A and B\n",
    "A = [[1, 2, 3],\n",
    "     [4, 5, 6]]\n",
    "\n",
    "B = [[1, 2],\n",
    "     [3, 4],\n",
    "     [5, 6]]\n",
    "\n",
    "# Compute matrix multiplication\n",
    "result_matrix = matrix_multiplication(A, B)\n",
    "\n",
    "# Print the result matrix\n",
    "for row in result_matrix:\n",
    "    print(row)\n"
   ]
  },
  {
   "cell_type": "code",
   "execution_count": 5,
   "id": "45a2c05a",
   "metadata": {},
   "outputs": [
    {
     "name": "stdout",
     "output_type": "stream",
     "text": [
      "The number of vowels in the string is: 2\n"
     ]
    }
   ],
   "source": [
    "#7. Write a python Function to count the number of vowels in a string.\n",
    "\n",
    "def count_vowels(str):\n",
    "    vowels = \"aeiouAEIOU\"\n",
    "    vowel_count = 0\n",
    "    for c in str:\n",
    "        if c in vowels:\n",
    "            vowel_count += 1\n",
    "    return vowel_count\n",
    "\n",
    "str = \"PythonWorld\"\n",
    "noofvowels = count_vowels(str)\n",
    "print(f\"The number of vowels in the string is: {noofvowels}\")\n"
   ]
  },
  {
   "cell_type": "code",
   "execution_count": 6,
   "id": "b3276755",
   "metadata": {},
   "outputs": [
    {
     "name": "stdout",
     "output_type": "stream",
     "text": [
      "Enter no for factorial: 5\n",
      "factorial of 5 is 120\n"
     ]
    }
   ],
   "source": [
    "#8. Write a python Function for finding factorial for the given number using a recursive function.\n",
    "\n",
    "def fact(n):\n",
    "    if n == 0:\n",
    "        return 1  # Factorial of 0 is 1\n",
    "    else:\n",
    "        return n * fact(n - 1)\n",
    "\n",
    "n=int(input(\"Enter no for factorial: \"))\n",
    "print(f\"factorial of {n } is {fact(n)}\")\n",
    "    "
   ]
  },
  {
   "cell_type": "code",
   "execution_count": 7,
   "id": "8f0d6b45",
   "metadata": {},
   "outputs": [
    {
     "name": "stdout",
     "output_type": "stream",
     "text": [
      "Enter no for fibonacci: 10\n",
      "fibonacci series is [0, 1, 1, 2, 3, 5, 8, 13, 21, 34]\n"
     ]
    }
   ],
   "source": [
    "#9. Write a python Function for generating the Fibonacci series using the function.\n",
    "\n",
    "def fibonacci(n):\n",
    "    fib_series = []\n",
    "    a, b = 0, 1\n",
    "\n",
    "    for i in range(n):\n",
    "        fib_series.append(a)\n",
    "        a, b = b, a + b\n",
    "\n",
    "    return fib_series\n",
    "n=int(input(\"Enter no for fibonacci: \"))\n",
    "print(f\"fibonacci series is {fibonacci(n)}\")\n"
   ]
  },
  {
   "cell_type": "code",
   "execution_count": 11,
   "id": "7448a686",
   "metadata": {},
   "outputs": [
    {
     "name": "stdout",
     "output_type": "stream",
     "text": [
      "Enter no: 4567\n",
      "Reverse of 4567 is: 7654 \n"
     ]
    }
   ],
   "source": [
    "#10. Python program to display the given integer in reverse order using the function without an in-built function.\n",
    "\n",
    "def reverse_integer(n):\n",
    "    rev = 0\n",
    "    while n > 0:\n",
    "        digit = n % 10   # getting last digit\n",
    "        rev = rev * 10 +digit  # adding it to the first so \n",
    "        n //= 10  # now remove this last digit \n",
    "    return rev\n",
    "\n",
    "number=int(input(\"Enter no: \"))\n",
    "print(f\"Reverse of {number} is: {reverse_integer(number)} \")"
   ]
  },
  {
   "cell_type": "code",
   "execution_count": 10,
   "id": "e2a0ad9d",
   "metadata": {},
   "outputs": [
    {
     "name": "stdout",
     "output_type": "stream",
     "text": [
      "All-integers within the range 200-300 whose sum of digits is an even number: \n",
      "200 202 204 206 208 211 213 215 217 219 220 222 224 226 228 231 233 235 237 239 240 242 244 246 248 251 253 255 257 259 260 262 264 266 268 271 273 275 277 279 280 282 284 286 288 291 293 295 297 299 "
     ]
    }
   ],
   "source": [
    "#11. Write a Python Function to display all-integers within the range 200-300 whose sum of digits is an even number.\n",
    "\n",
    "\n",
    "def sum_of_digits_is_even(number):\n",
    "    digit_sum = 0\n",
    "    while number > 0:\n",
    "        digit_sum += number % 10\n",
    "        number //= 10\n",
    "    return digit_sum % 2 == 0\n",
    "\n",
    "def find_integers(start, end):\n",
    "    for num in range(start, end + 1):\n",
    "        if sum_of_digits_is_even(num):\n",
    "            print(num, end=\" \")\n",
    "print(\"All-integers within the range 200-300 whose sum of digits is an even number: \")\n",
    "find_integers(200, 300)"
   ]
  },
  {
   "cell_type": "code",
   "execution_count": 13,
   "id": "53b9938c",
   "metadata": {},
   "outputs": [
    {
     "name": "stdout",
     "output_type": "stream",
     "text": [
      "Enter a digits:523\n",
      "In 523, the no of digits:3 and sum of the digits: 10\n"
     ]
    }
   ],
   "source": [
    "#12. Write a python Function to find the number of digits and sum of digits for a given integer.\n",
    "\n",
    "def digits(number):\n",
    "    digit_sum= 0\n",
    "    count=0\n",
    "    while number > 0:\n",
    "        digit = number % 10   # getting last digit\n",
    "        digit_sum = digit_sum +digit\n",
    "        count+=1\n",
    "        number //= 10  # now remove this last digit \n",
    "    return digit_sum,count\n",
    "\n",
    "num=int(input( 'Enter a digits:' ))\n",
    "digit_sum,noofdig = digits(num)\n",
    "print(f\"In { num}, the no of digits:{ noofdig} and sum of the digits: {digit_sum}\")"
   ]
  },
  {
   "cell_type": "code",
   "execution_count": 14,
   "id": "bd646c7d",
   "metadata": {},
   "outputs": [
    {
     "name": "stdout",
     "output_type": "stream",
     "text": [
      "In This List: [1, 2, 3, 4, 5, 6, 7, 8, 9] \n",
      "Is it sorted: Yes\n",
      "It has_duplicates: No \n",
      "\n",
      "In This List: [5, 2, 8, 1, 3, 9] \n",
      "Is it sorted: No\n",
      "It has_duplicates: No \n",
      "\n",
      "In This List: [1, 5, 2, 6, 3, 4, 5] \n",
      "Is it sorted: No\n",
      "It has_duplicates: Yes \n",
      "\n"
     ]
    }
   ],
   "source": [
    "#13. Write functions called is_sorted that takes a list as a parameter \n",
    "# and returns True if the list is sorted in ascending order and False otherwise \n",
    "# and has_ duplicates that takes a list and returns True if there is any element that appears more than once. \n",
    "# It should not modify the original list.\n",
    "\n",
    "def is_sorted(my_list):\n",
    "    # Check if the input list is sorted in ascending order\n",
    "    for i in range(len(my_list)- 1):\n",
    "        if(my_list[i] <= my_list[i + 1] ):\n",
    "            return True\n",
    "        else:\n",
    "            return False\n",
    "    \n",
    "    \n",
    "def has_duplicates(my_list):\n",
    "    # Check if there are any duplicate elements in the input list\n",
    "    n = len(my_list)\n",
    "    for i in range(n):\n",
    "        for j in range(i + 1, n):\n",
    "            if my_list[i] == my_list[j]:\n",
    "                return True          \n",
    "    return False\n",
    "\n",
    "sorted_list = [1, 2, 3, 4, 5, 6, 7, 8, 9]\n",
    "unsorted_list = [5, 2, 8, 1, 3, 9]\n",
    "list_with_duplicates = [1, 5, 2, 6,  3,  4, 5]\n",
    "\n",
    "\n",
    "print(f\"In This List: {sorted_list} \")\n",
    "if is_sorted(sorted_list)==True: \n",
    "    print('Is it sorted: Yes') \n",
    "else: \n",
    "    print('Is it sorted: No') \n",
    "    \n",
    "if has_duplicates(sorted_list)==True: \n",
    "    print('It has_duplicates: Yes \\n') \n",
    "else: \n",
    "    print('It has_duplicates: No \\n') \n",
    "\n",
    "\n",
    "print(f\"In This List: {unsorted_list} \")\n",
    "if is_sorted(unsorted_list)==True: \n",
    "    print('Is it sorted: Yes') \n",
    "else: \n",
    "    print('Is it sorted: No')     \n",
    "if has_duplicates(unsorted_list)==True: \n",
    "    print('It has_duplicates: Yes \\n') \n",
    "else: \n",
    "    print('It has_duplicates: No \\n')\n",
    "    \n",
    "\n",
    "print(f\"In This List: {list_with_duplicates} \")\n",
    "if is_sorted(list_with_duplicates)!=True: \n",
    "    print('Is it sorted: Yes') \n",
    "else: \n",
    "    print('Is it sorted: No')     \n",
    "if has_duplicates(list_with_duplicates)==True: \n",
    "    print('It has_duplicates: Yes \\n') \n",
    "else: \n",
    "    print('It has_duplicates: No \\n') \n"
   ]
  },
  {
   "cell_type": "code",
   "execution_count": 6,
   "id": "253b17ef",
   "metadata": {},
   "outputs": [
    {
     "name": "stdout",
     "output_type": "stream",
     "text": [
      "Nested Sum: 28\n",
      "Cumulative Sum: 36\n"
     ]
    }
   ],
   "source": [
    "# 14. Write functions called nested_sum that takes a list of integers and \n",
    "# adds up the elements from all the nested lists and cumsum that takes a list of numbers and returns the cumulative sum; \n",
    "# that is, a new list where the ith element is the sum of the first i + 1 elements from the original list.\n",
    "\n",
    "\n",
    "\n",
    "def nested_sum(nested_list):\n",
    "    # Initialize a variable to store the sum\n",
    "    total_sum = 0\n",
    "\n",
    "    # Iterate through the nested list\n",
    "    for i in nested_list:\n",
    "        if isinstance(i, list):\n",
    "            # Recursively call nested_sum if the element is a list\n",
    "            total_sum += nested_sum(i)\n",
    "        else:\n",
    "            # Add non-list elements to the total sum\n",
    "            total_sum += i\n",
    "\n",
    "    return total_sum\n",
    "\n",
    "def cumsum(numbers):\n",
    "   \n",
    "    cumulative_sum = []\n",
    "    current_sum = 0\n",
    "    for num in numbers:\n",
    "        current_sum += num\n",
    "        cumulative_sum.append(current_sum)\n",
    "    return current_sum\n",
    "\n",
    "# Example usage:\n",
    "nested_list = [1, 2, [3, 4], [5, [6, 7]]]\n",
    "numbers = [1, 2, 3, 4, 5, 6, 7, 8]\n",
    "\n",
    "print(\"Nested Sum:\", nested_sum(nested_list))\n",
    "print(\"Cumulative Sum:\", cumsum(numbers))\n"
   ]
  },
  {
   "cell_type": "code",
   "execution_count": null,
   "id": "11b70b77",
   "metadata": {},
   "outputs": [],
   "source": []
  }
 ],
 "metadata": {
  "kernelspec": {
   "display_name": "Python 3 (ipykernel)",
   "language": "python",
   "name": "python3"
  },
  "language_info": {
   "codemirror_mode": {
    "name": "ipython",
    "version": 3
   },
   "file_extension": ".py",
   "mimetype": "text/x-python",
   "name": "python",
   "nbconvert_exporter": "python",
   "pygments_lexer": "ipython3",
   "version": "3.11.4"
  }
 },
 "nbformat": 4,
 "nbformat_minor": 5
}
